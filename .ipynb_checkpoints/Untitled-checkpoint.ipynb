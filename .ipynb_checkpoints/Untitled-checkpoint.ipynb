{
 "cells": [
  {
   "cell_type": "markdown",
   "metadata": {},
   "source": [
    "importing pandas package"
   ]
  },
  {
   "cell_type": "code",
   "execution_count": 1,
   "metadata": {},
   "outputs": [],
   "source": [
    "import pandas as pd"
   ]
  },
  {
   "cell_type": "code",
   "execution_count": 2,
   "metadata": {},
   "outputs": [],
   "source": [
    "data = pd.read_csv('hawaii_enrollments.csv')"
   ]
  },
  {
   "cell_type": "code",
   "execution_count": 3,
   "metadata": {},
   "outputs": [
    {
     "data": {
      "text/html": [
       "<div>\n",
       "<style scoped>\n",
       "    .dataframe tbody tr th:only-of-type {\n",
       "        vertical-align: middle;\n",
       "    }\n",
       "\n",
       "    .dataframe tbody tr th {\n",
       "        vertical-align: top;\n",
       "    }\n",
       "\n",
       "    .dataframe thead th {\n",
       "        text-align: right;\n",
       "    }\n",
       "</style>\n",
       "<table border=\"1\" class=\"dataframe\">\n",
       "  <thead>\n",
       "    <tr style=\"text-align: right;\">\n",
       "      <th></th>\n",
       "      <th>Unnamed: 0</th>\n",
       "      <th>SEMESTER</th>\n",
       "      <th>SPRADDR_ZIP_PR</th>\n",
       "      <th>IRO_INSTITUTION_DESCL</th>\n",
       "      <th>ENROLLMENT</th>\n",
       "      <th>YEAR</th>\n",
       "    </tr>\n",
       "  </thead>\n",
       "  <tbody>\n",
       "    <tr>\n",
       "      <th>0</th>\n",
       "      <td>0</td>\n",
       "      <td>Fall 2012</td>\n",
       "      <td>96766</td>\n",
       "      <td>Kaua`i Community College</td>\n",
       "      <td>73</td>\n",
       "      <td>2012</td>\n",
       "    </tr>\n",
       "    <tr>\n",
       "      <th>1</th>\n",
       "      <td>1</td>\n",
       "      <td>Fall 2012</td>\n",
       "      <td>96814</td>\n",
       "      <td>Kapi`olani Community College</td>\n",
       "      <td>19</td>\n",
       "      <td>2012</td>\n",
       "    </tr>\n",
       "    <tr>\n",
       "      <th>2</th>\n",
       "      <td>2</td>\n",
       "      <td>Fall 2012</td>\n",
       "      <td>96792</td>\n",
       "      <td>Leeward Community College</td>\n",
       "      <td>504</td>\n",
       "      <td>2012</td>\n",
       "    </tr>\n",
       "    <tr>\n",
       "      <th>3</th>\n",
       "      <td>3</td>\n",
       "      <td>Fall 2012</td>\n",
       "      <td>96822</td>\n",
       "      <td>Honolulu Community College</td>\n",
       "      <td>12</td>\n",
       "      <td>2012</td>\n",
       "    </tr>\n",
       "    <tr>\n",
       "      <th>4</th>\n",
       "      <td>4</td>\n",
       "      <td>Fall 2012</td>\n",
       "      <td>96821</td>\n",
       "      <td>Kapi`olani Community College</td>\n",
       "      <td>43</td>\n",
       "      <td>2012</td>\n",
       "    </tr>\n",
       "  </tbody>\n",
       "</table>\n",
       "</div>"
      ],
      "text/plain": [
       "   Unnamed: 0   SEMESTER SPRADDR_ZIP_PR         IRO_INSTITUTION_DESCL  \\\n",
       "0           0  Fall 2012          96766      Kaua`i Community College   \n",
       "1           1  Fall 2012          96814  Kapi`olani Community College   \n",
       "2           2  Fall 2012          96792     Leeward Community College   \n",
       "3           3  Fall 2012          96822    Honolulu Community College   \n",
       "4           4  Fall 2012          96821  Kapi`olani Community College   \n",
       "\n",
       "   ENROLLMENT  YEAR  \n",
       "0          73  2012  \n",
       "1          19  2012  \n",
       "2         504  2012  \n",
       "3          12  2012  \n",
       "4          43  2012  "
      ]
     },
     "execution_count": 3,
     "metadata": {},
     "output_type": "execute_result"
    }
   ],
   "source": [
    "data.head()"
   ]
  },
  {
   "cell_type": "markdown",
   "metadata": {},
   "source": [
    "1. aggregate all zip codes from 2014-2019 for the Manoa campus,"
   ]
  },
  {
   "cell_type": "code",
   "execution_count": 4,
   "metadata": {},
   "outputs": [],
   "source": [
    "new_dataframe = data[(data.IRO_INSTITUTION_DESCL.str.contains('Manoa'))]"
   ]
  },
  {
   "cell_type": "code",
   "execution_count": 5,
   "metadata": {},
   "outputs": [
    {
     "data": {
      "text/html": [
       "<div>\n",
       "<style scoped>\n",
       "    .dataframe tbody tr th:only-of-type {\n",
       "        vertical-align: middle;\n",
       "    }\n",
       "\n",
       "    .dataframe tbody tr th {\n",
       "        vertical-align: top;\n",
       "    }\n",
       "\n",
       "    .dataframe thead th {\n",
       "        text-align: right;\n",
       "    }\n",
       "</style>\n",
       "<table border=\"1\" class=\"dataframe\">\n",
       "  <thead>\n",
       "    <tr style=\"text-align: right;\">\n",
       "      <th></th>\n",
       "      <th>Unnamed: 0</th>\n",
       "      <th>SEMESTER</th>\n",
       "      <th>SPRADDR_ZIP_PR</th>\n",
       "      <th>IRO_INSTITUTION_DESCL</th>\n",
       "      <th>ENROLLMENT</th>\n",
       "      <th>YEAR</th>\n",
       "    </tr>\n",
       "  </thead>\n",
       "  <tbody>\n",
       "    <tr>\n",
       "      <th>7</th>\n",
       "      <td>7</td>\n",
       "      <td>Fall 2012</td>\n",
       "      <td>96789</td>\n",
       "      <td>University of Hawai`i at Manoa</td>\n",
       "      <td>80</td>\n",
       "      <td>2012</td>\n",
       "    </tr>\n",
       "    <tr>\n",
       "      <th>8</th>\n",
       "      <td>8</td>\n",
       "      <td>Fall 2012</td>\n",
       "      <td>96712</td>\n",
       "      <td>University of Hawai`i at Manoa</td>\n",
       "      <td>37</td>\n",
       "      <td>2012</td>\n",
       "    </tr>\n",
       "    <tr>\n",
       "      <th>11</th>\n",
       "      <td>11</td>\n",
       "      <td>Fall 2012</td>\n",
       "      <td>96813</td>\n",
       "      <td>University of Hawai`i at Manoa</td>\n",
       "      <td>26</td>\n",
       "      <td>2012</td>\n",
       "    </tr>\n",
       "    <tr>\n",
       "      <th>12</th>\n",
       "      <td>12</td>\n",
       "      <td>Fall 2012</td>\n",
       "      <td>96822</td>\n",
       "      <td>University of Hawai`i at Manoa</td>\n",
       "      <td>87</td>\n",
       "      <td>2012</td>\n",
       "    </tr>\n",
       "    <tr>\n",
       "      <th>13</th>\n",
       "      <td>13</td>\n",
       "      <td>Fall 2012</td>\n",
       "      <td>96816</td>\n",
       "      <td>University of Hawai`i at Manoa</td>\n",
       "      <td>184</td>\n",
       "      <td>2012</td>\n",
       "    </tr>\n",
       "  </tbody>\n",
       "</table>\n",
       "</div>"
      ],
      "text/plain": [
       "    Unnamed: 0   SEMESTER SPRADDR_ZIP_PR           IRO_INSTITUTION_DESCL  \\\n",
       "7            7  Fall 2012          96789  University of Hawai`i at Manoa   \n",
       "8            8  Fall 2012          96712  University of Hawai`i at Manoa   \n",
       "11          11  Fall 2012          96813  University of Hawai`i at Manoa   \n",
       "12          12  Fall 2012          96822  University of Hawai`i at Manoa   \n",
       "13          13  Fall 2012          96816  University of Hawai`i at Manoa   \n",
       "\n",
       "    ENROLLMENT  YEAR  \n",
       "7           80  2012  \n",
       "8           37  2012  \n",
       "11          26  2012  \n",
       "12          87  2012  \n",
       "13         184  2012  "
      ]
     },
     "execution_count": 5,
     "metadata": {},
     "output_type": "execute_result"
    }
   ],
   "source": [
    "new_dataframe.head()"
   ]
  },
  {
   "cell_type": "code",
   "execution_count": 6,
   "metadata": {},
   "outputs": [],
   "source": [
    "new_dataframe = new_dataframe[(new_dataframe.YEAR >= 2014) & (new_dataframe.YEAR <= 2019)]"
   ]
  },
  {
   "cell_type": "code",
   "execution_count": 7,
   "metadata": {},
   "outputs": [
    {
     "data": {
      "text/html": [
       "<div>\n",
       "<style scoped>\n",
       "    .dataframe tbody tr th:only-of-type {\n",
       "        vertical-align: middle;\n",
       "    }\n",
       "\n",
       "    .dataframe tbody tr th {\n",
       "        vertical-align: top;\n",
       "    }\n",
       "\n",
       "    .dataframe thead th {\n",
       "        text-align: right;\n",
       "    }\n",
       "</style>\n",
       "<table border=\"1\" class=\"dataframe\">\n",
       "  <thead>\n",
       "    <tr style=\"text-align: right;\">\n",
       "      <th></th>\n",
       "      <th>Unnamed: 0</th>\n",
       "      <th>SEMESTER</th>\n",
       "      <th>SPRADDR_ZIP_PR</th>\n",
       "      <th>IRO_INSTITUTION_DESCL</th>\n",
       "      <th>ENROLLMENT</th>\n",
       "      <th>YEAR</th>\n",
       "    </tr>\n",
       "  </thead>\n",
       "  <tbody>\n",
       "    <tr>\n",
       "      <th>2487</th>\n",
       "      <td>2684</td>\n",
       "      <td>Fall 2014</td>\n",
       "      <td>96817</td>\n",
       "      <td>University of Hawai`i at Manoa</td>\n",
       "      <td>53</td>\n",
       "      <td>2014</td>\n",
       "    </tr>\n",
       "    <tr>\n",
       "      <th>2489</th>\n",
       "      <td>2687</td>\n",
       "      <td>Fall 2014</td>\n",
       "      <td>96734</td>\n",
       "      <td>University of Hawai`i at Manoa</td>\n",
       "      <td>127</td>\n",
       "      <td>2014</td>\n",
       "    </tr>\n",
       "    <tr>\n",
       "      <th>2491</th>\n",
       "      <td>2689</td>\n",
       "      <td>Fall 2014</td>\n",
       "      <td>96779</td>\n",
       "      <td>University of Hawai`i at Manoa</td>\n",
       "      <td>6</td>\n",
       "      <td>2014</td>\n",
       "    </tr>\n",
       "    <tr>\n",
       "      <th>2495</th>\n",
       "      <td>2693</td>\n",
       "      <td>Fall 2014</td>\n",
       "      <td>96793</td>\n",
       "      <td>University of Hawai`i at Manoa</td>\n",
       "      <td>16</td>\n",
       "      <td>2014</td>\n",
       "    </tr>\n",
       "    <tr>\n",
       "      <th>2496</th>\n",
       "      <td>2694</td>\n",
       "      <td>Fall 2014</td>\n",
       "      <td>96791</td>\n",
       "      <td>University of Hawai`i at Manoa</td>\n",
       "      <td>15</td>\n",
       "      <td>2014</td>\n",
       "    </tr>\n",
       "  </tbody>\n",
       "</table>\n",
       "</div>"
      ],
      "text/plain": [
       "      Unnamed: 0   SEMESTER SPRADDR_ZIP_PR           IRO_INSTITUTION_DESCL  \\\n",
       "2487        2684  Fall 2014          96817  University of Hawai`i at Manoa   \n",
       "2489        2687  Fall 2014          96734  University of Hawai`i at Manoa   \n",
       "2491        2689  Fall 2014          96779  University of Hawai`i at Manoa   \n",
       "2495        2693  Fall 2014          96793  University of Hawai`i at Manoa   \n",
       "2496        2694  Fall 2014          96791  University of Hawai`i at Manoa   \n",
       "\n",
       "      ENROLLMENT  YEAR  \n",
       "2487          53  2014  \n",
       "2489         127  2014  \n",
       "2491           6  2014  \n",
       "2495          16  2014  \n",
       "2496          15  2014  "
      ]
     },
     "execution_count": 7,
     "metadata": {},
     "output_type": "execute_result"
    }
   ],
   "source": [
    "new_dataframe.head()"
   ]
  },
  {
   "cell_type": "markdown",
   "metadata": {},
   "source": [
    "2. assign a state code to the zip codes"
   ]
  },
  {
   "cell_type": "code",
   "execution_count": 31,
   "metadata": {},
   "outputs": [],
   "source": [
    "import pgeocode\n",
    "nomi = pgeocode.Nominatim('us')\n",
    "def getStateCode(zipCode):\n",
    "    try:\n",
    "        return nomi.query_postal_code(zipCode)['state_code']\n",
    "    except:\n",
    "        return zipCode"
   ]
  },
  {
   "cell_type": "code",
   "execution_count": 32,
   "metadata": {},
   "outputs": [
    {
     "name": "stdout",
     "output_type": "stream",
     "text": [
      "HI\n"
     ]
    }
   ],
   "source": [
    "print(getStateCode('96817'))"
   ]
  },
  {
   "cell_type": "code",
   "execution_count": null,
   "metadata": {},
   "outputs": [],
   "source": [
    "new_dataframe['SPRADDR_ZIP_PR'].astype(str).apply(getStateCode)"
   ]
  },
  {
   "cell_type": "code",
   "execution_count": null,
   "metadata": {},
   "outputs": [],
   "source": []
  },
  {
   "cell_type": "code",
   "execution_count": null,
   "metadata": {},
   "outputs": [],
   "source": [
    "new_dataframe['State Code'] = nomi.query_postal_code(new_dataframe['SPRADDR_ZIP_PR'].astype('string'))['state_code']"
   ]
  },
  {
   "cell_type": "code",
   "execution_count": null,
   "metadata": {},
   "outputs": [],
   "source": [
    "new_dataframe.head()"
   ]
  },
  {
   "cell_type": "code",
   "execution_count": null,
   "metadata": {},
   "outputs": [],
   "source": [
    "nomi.query_postal_code('96817')['state_code']"
   ]
  },
  {
   "cell_type": "code",
   "execution_count": null,
   "metadata": {},
   "outputs": [],
   "source": [
    "new_dataframe['SPRADDR_ZIP_PR'].apply(lambda x: nomi.query_postal_code(str(x)).state_code)"
   ]
  },
  {
   "cell_type": "code",
   "execution_count": null,
   "metadata": {},
   "outputs": [],
   "source": [
    "new_dataframe['SPRADDR_ZIP_PR'] = new_dataframe['SPRADDR_ZIP_PR'].astype('string').apply(lambda x:nomi.query_postal_code(x)['state_code'])"
   ]
  },
  {
   "cell_type": "code",
   "execution_count": 20,
   "metadata": {},
   "outputs": [],
   "source": [
    "df_zip = pd.read_csv(\"US.txt\", header=None, sep='\\t')"
   ]
  },
  {
   "cell_type": "code",
   "execution_count": 21,
   "metadata": {},
   "outputs": [
    {
     "ename": "ValueError",
     "evalue": "can only convert an array of size 1 to a Python scalar",
     "output_type": "error",
     "traceback": [
      "\u001b[1;31m---------------------------------------------------------------------------\u001b[0m",
      "\u001b[1;31mValueError\u001b[0m                                Traceback (most recent call last)",
      "\u001b[1;32m<ipython-input-21-f94adf26f162>\u001b[0m in \u001b[0;36m<module>\u001b[1;34m\u001b[0m\n\u001b[1;32m----> 1\u001b[1;33m \u001b[0mdf_zip\u001b[0m\u001b[1;33m[\u001b[0m \u001b[0mdf_zip\u001b[0m\u001b[1;33m[\u001b[0m\u001b[1;36m1\u001b[0m\u001b[1;33m]\u001b[0m\u001b[1;33m==\u001b[0m\u001b[1;36m5690\u001b[0m \u001b[1;33m]\u001b[0m\u001b[1;33m[\u001b[0m\u001b[1;36m4\u001b[0m\u001b[1;33m]\u001b[0m\u001b[1;33m.\u001b[0m\u001b[0mitem\u001b[0m\u001b[1;33m(\u001b[0m\u001b[1;33m)\u001b[0m\u001b[1;33m\u001b[0m\u001b[1;33m\u001b[0m\u001b[0m\n\u001b[0m",
      "\u001b[1;32mc:\\users\\rajsh\\appdata\\local\\programs\\python\\python38\\lib\\site-packages\\pandas\\core\\base.py\u001b[0m in \u001b[0;36mitem\u001b[1;34m(self)\u001b[0m\n\u001b[0;32m    650\u001b[0m             \u001b[1;31m# numpy returns ints instead of datetime64/timedelta64 objects,\u001b[0m\u001b[1;33m\u001b[0m\u001b[1;33m\u001b[0m\u001b[1;33m\u001b[0m\u001b[0m\n\u001b[0;32m    651\u001b[0m             \u001b[1;31m#  which we need to wrap in Timestamp/Timedelta/Period regardless.\u001b[0m\u001b[1;33m\u001b[0m\u001b[1;33m\u001b[0m\u001b[1;33m\u001b[0m\u001b[0m\n\u001b[1;32m--> 652\u001b[1;33m             \u001b[1;32mreturn\u001b[0m \u001b[0mself\u001b[0m\u001b[1;33m.\u001b[0m\u001b[0mvalues\u001b[0m\u001b[1;33m.\u001b[0m\u001b[0mitem\u001b[0m\u001b[1;33m(\u001b[0m\u001b[1;33m)\u001b[0m\u001b[1;33m\u001b[0m\u001b[1;33m\u001b[0m\u001b[0m\n\u001b[0m\u001b[0;32m    653\u001b[0m \u001b[1;33m\u001b[0m\u001b[0m\n\u001b[0;32m    654\u001b[0m         \u001b[1;32mif\u001b[0m \u001b[0mlen\u001b[0m\u001b[1;33m(\u001b[0m\u001b[0mself\u001b[0m\u001b[1;33m)\u001b[0m \u001b[1;33m==\u001b[0m \u001b[1;36m1\u001b[0m\u001b[1;33m:\u001b[0m\u001b[1;33m\u001b[0m\u001b[1;33m\u001b[0m\u001b[0m\n",
      "\u001b[1;31mValueError\u001b[0m: can only convert an array of size 1 to a Python scalar"
     ]
    }
   ],
   "source": [
    "df_zip[ df_zip[1]==5690 ][4].item() "
   ]
  },
  {
   "cell_type": "code",
   "execution_count": 22,
   "metadata": {},
   "outputs": [],
   "source": [
    "new_dataframe = new_dataframe[new_dataframe.SPRADDR_ZIP_PR.apply(lambda x: x.isnumeric())]"
   ]
  },
  {
   "cell_type": "code",
   "execution_count": 27,
   "metadata": {},
   "outputs": [],
   "source": [
    "def f(k):\n",
    "    temp = 0\n",
    "    try:\n",
    "        k = df_zip[ df_zip[1]==k][4].item() \n",
    "        temp+=1\n",
    "    except:\n",
    "        pass\n",
    "    return k"
   ]
  },
  {
   "cell_type": "code",
   "execution_count": 28,
   "metadata": {},
   "outputs": [
    {
     "name": "stderr",
     "output_type": "stream",
     "text": [
      "c:\\users\\rajsh\\appdata\\local\\programs\\python\\python38\\lib\\site-packages\\pandas\\core\\ops\\array_ops.py:253: FutureWarning: elementwise comparison failed; returning scalar instead, but in the future will perform elementwise comparison\n",
      "  res_values = method(rvalues)\n"
     ]
    }
   ],
   "source": [
    "try:\n",
    "    new_dataframe['State Code'] = df_zip[df_zip[1] == new_dataframe['SPRADDR_ZIP_PR']][4].item()\n",
    "except:\n",
    "    pass\n",
    "new_dataframe['STATE CODE'] = new_dataframe['SPRADDR_ZIP_PR'].apply(f)"
   ]
  },
  {
   "cell_type": "code",
   "execution_count": null,
   "metadata": {},
   "outputs": [],
   "source": [
    "new_dataframe.['STATE CODE']"
   ]
  },
  {
   "cell_type": "code",
   "execution_count": null,
   "metadata": {},
   "outputs": [],
   "source": [
    "new_dataframe['SPRADDR_ZIP_PR'] = new_dataframe['SPRADDR_ZIP_PR'].apply(lambda x: df_zip[df_zip[1] == x][4].tolist())"
   ]
  },
  {
   "cell_type": "code",
   "execution_count": null,
   "metadata": {},
   "outputs": [],
   "source": []
  }
 ],
 "metadata": {
  "kernelspec": {
   "display_name": "Python 3",
   "language": "python",
   "name": "python3"
  },
  "language_info": {
   "codemirror_mode": {
    "name": "ipython",
    "version": 3
   },
   "file_extension": ".py",
   "mimetype": "text/x-python",
   "name": "python",
   "nbconvert_exporter": "python",
   "pygments_lexer": "ipython3",
   "version": "3.8.3"
  }
 },
 "nbformat": 4,
 "nbformat_minor": 4
}
