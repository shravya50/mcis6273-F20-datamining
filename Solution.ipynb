{
 "cells": [
  {
   "cell_type": "markdown",
   "metadata": {},
   "source": [
    "importing the pandas package"
   ]
  },
  {
   "cell_type": "code",
   "execution_count": 34,
   "metadata": {},
   "outputs": [],
   "source": [
    "import pandas as pd"
   ]
  },
  {
   "cell_type": "markdown",
   "metadata": {},
   "source": [
    "reading the data from the csv file and loading it into a DataFrame"
   ]
  },
  {
   "cell_type": "code",
   "execution_count": 35,
   "metadata": {},
   "outputs": [],
   "source": [
    "data = pd.read_csv(\"enrollment-by-zipcode.csv\")"
   ]
  },
  {
   "cell_type": "markdown",
   "metadata": {},
   "source": [
    "displaying the first five rows of the DataFrame"
   ]
  },
  {
   "cell_type": "code",
   "execution_count": 36,
   "metadata": {},
   "outputs": [
    {
     "data": {
      "text/html": [
       "<div>\n",
       "<style scoped>\n",
       "    .dataframe tbody tr th:only-of-type {\n",
       "        vertical-align: middle;\n",
       "    }\n",
       "\n",
       "    .dataframe tbody tr th {\n",
       "        vertical-align: top;\n",
       "    }\n",
       "\n",
       "    .dataframe thead th {\n",
       "        text-align: right;\n",
       "    }\n",
       "</style>\n",
       "<table border=\"1\" class=\"dataframe\">\n",
       "  <thead>\n",
       "    <tr style=\"text-align: right;\">\n",
       "      <th></th>\n",
       "      <th>SEMESTER</th>\n",
       "      <th>SPRADDR_ZIP_PR</th>\n",
       "      <th>IRO_INSTITUTION_DESCL</th>\n",
       "      <th>HAWAIIAN_LEGACY</th>\n",
       "      <th>ENROLLMENT</th>\n",
       "    </tr>\n",
       "  </thead>\n",
       "  <tbody>\n",
       "    <tr>\n",
       "      <th>0</th>\n",
       "      <td>Fall 2012</td>\n",
       "      <td>96766</td>\n",
       "      <td>Kaua`i Community College</td>\n",
       "      <td>HAWAIIAN</td>\n",
       "      <td>73</td>\n",
       "    </tr>\n",
       "    <tr>\n",
       "      <th>1</th>\n",
       "      <td>Fall 2012</td>\n",
       "      <td>96814</td>\n",
       "      <td>Kapi`olani Community College</td>\n",
       "      <td>NaN</td>\n",
       "      <td>19</td>\n",
       "    </tr>\n",
       "    <tr>\n",
       "      <th>2</th>\n",
       "      <td>Fall 2012</td>\n",
       "      <td>96792</td>\n",
       "      <td>Leeward Community College</td>\n",
       "      <td>HAWAIIAN</td>\n",
       "      <td>504</td>\n",
       "    </tr>\n",
       "    <tr>\n",
       "      <th>3</th>\n",
       "      <td>Fall 2012</td>\n",
       "      <td>96822</td>\n",
       "      <td>Honolulu Community College</td>\n",
       "      <td>NaN</td>\n",
       "      <td>12</td>\n",
       "    </tr>\n",
       "    <tr>\n",
       "      <th>4</th>\n",
       "      <td>Fall 2012</td>\n",
       "      <td>96821</td>\n",
       "      <td>Kapi`olani Community College</td>\n",
       "      <td>NaN</td>\n",
       "      <td>43</td>\n",
       "    </tr>\n",
       "  </tbody>\n",
       "</table>\n",
       "</div>"
      ],
      "text/plain": [
       "    SEMESTER SPRADDR_ZIP_PR         IRO_INSTITUTION_DESCL HAWAIIAN_LEGACY  \\\n",
       "0  Fall 2012          96766      Kaua`i Community College        HAWAIIAN   \n",
       "1  Fall 2012          96814  Kapi`olani Community College             NaN   \n",
       "2  Fall 2012          96792     Leeward Community College        HAWAIIAN   \n",
       "3  Fall 2012          96822    Honolulu Community College             NaN   \n",
       "4  Fall 2012          96821  Kapi`olani Community College             NaN   \n",
       "\n",
       "   ENROLLMENT  \n",
       "0          73  \n",
       "1          19  \n",
       "2         504  \n",
       "3          12  \n",
       "4          43  "
      ]
     },
     "execution_count": 36,
     "metadata": {},
     "output_type": "execute_result"
    }
   ],
   "source": [
    "data.head()"
   ]
  },
  {
   "cell_type": "code",
   "execution_count": 37,
   "metadata": {},
   "outputs": [
    {
     "data": {
      "text/plain": [
       "(87798, 5)"
      ]
     },
     "execution_count": 37,
     "metadata": {},
     "output_type": "execute_result"
    }
   ],
   "source": [
    "data.shape"
   ]
  },
  {
   "cell_type": "markdown",
   "metadata": {},
   "source": [
    "cleaning the data so that all zip codes are normalized to just the ZIP5 format (e.g. 80246) not\n",
    "the ZIP5 + 4 (e.g. 80248-1234) format"
   ]
  },
  {
   "cell_type": "code",
   "execution_count": 38,
   "metadata": {},
   "outputs": [],
   "source": [
    "data = data[data.SPRADDR_ZIP_PR.map(str).map(len) == 5]\n",
    "data['SPRADDR_ZIP_PR'] = pd.to_numeric(data['SPRADDR_ZIP_PR'], errors='coerce')\n",
    "data = data.dropna(subset=['SPRADDR_ZIP_PR']).set_index('SPRADDR_ZIP_PR')\n",
    "data = data.reset_index()\n",
    "data['SPRADDR_ZIP_PR'] = data['SPRADDR_ZIP_PR'].astype(int)\n"
   ]
  },
  {
   "cell_type": "code",
   "execution_count": 39,
   "metadata": {},
   "outputs": [
    {
     "data": {
      "text/html": [
       "<div>\n",
       "<style scoped>\n",
       "    .dataframe tbody tr th:only-of-type {\n",
       "        vertical-align: middle;\n",
       "    }\n",
       "\n",
       "    .dataframe tbody tr th {\n",
       "        vertical-align: top;\n",
       "    }\n",
       "\n",
       "    .dataframe thead th {\n",
       "        text-align: right;\n",
       "    }\n",
       "</style>\n",
       "<table border=\"1\" class=\"dataframe\">\n",
       "  <thead>\n",
       "    <tr style=\"text-align: right;\">\n",
       "      <th></th>\n",
       "      <th>SPRADDR_ZIP_PR</th>\n",
       "      <th>SEMESTER</th>\n",
       "      <th>IRO_INSTITUTION_DESCL</th>\n",
       "      <th>HAWAIIAN_LEGACY</th>\n",
       "      <th>ENROLLMENT</th>\n",
       "    </tr>\n",
       "  </thead>\n",
       "  <tbody>\n",
       "    <tr>\n",
       "      <th>0</th>\n",
       "      <td>96766</td>\n",
       "      <td>Fall 2012</td>\n",
       "      <td>Kaua`i Community College</td>\n",
       "      <td>HAWAIIAN</td>\n",
       "      <td>73</td>\n",
       "    </tr>\n",
       "    <tr>\n",
       "      <th>1</th>\n",
       "      <td>96814</td>\n",
       "      <td>Fall 2012</td>\n",
       "      <td>Kapi`olani Community College</td>\n",
       "      <td>NaN</td>\n",
       "      <td>19</td>\n",
       "    </tr>\n",
       "    <tr>\n",
       "      <th>2</th>\n",
       "      <td>96792</td>\n",
       "      <td>Fall 2012</td>\n",
       "      <td>Leeward Community College</td>\n",
       "      <td>HAWAIIAN</td>\n",
       "      <td>504</td>\n",
       "    </tr>\n",
       "    <tr>\n",
       "      <th>3</th>\n",
       "      <td>96822</td>\n",
       "      <td>Fall 2012</td>\n",
       "      <td>Honolulu Community College</td>\n",
       "      <td>NaN</td>\n",
       "      <td>12</td>\n",
       "    </tr>\n",
       "    <tr>\n",
       "      <th>4</th>\n",
       "      <td>96821</td>\n",
       "      <td>Fall 2012</td>\n",
       "      <td>Kapi`olani Community College</td>\n",
       "      <td>NaN</td>\n",
       "      <td>43</td>\n",
       "    </tr>\n",
       "  </tbody>\n",
       "</table>\n",
       "</div>"
      ],
      "text/plain": [
       "   SPRADDR_ZIP_PR   SEMESTER         IRO_INSTITUTION_DESCL HAWAIIAN_LEGACY  \\\n",
       "0           96766  Fall 2012      Kaua`i Community College        HAWAIIAN   \n",
       "1           96814  Fall 2012  Kapi`olani Community College             NaN   \n",
       "2           96792  Fall 2012     Leeward Community College        HAWAIIAN   \n",
       "3           96822  Fall 2012    Honolulu Community College             NaN   \n",
       "4           96821  Fall 2012  Kapi`olani Community College             NaN   \n",
       "\n",
       "   ENROLLMENT  \n",
       "0          73  \n",
       "1          19  \n",
       "2         504  \n",
       "3          12  \n",
       "4          43  "
      ]
     },
     "execution_count": 39,
     "metadata": {},
     "output_type": "execute_result"
    }
   ],
   "source": [
    "data.head()"
   ]
  },
  {
   "cell_type": "markdown",
   "metadata": {},
   "source": [
    "shape of the DataFrame after cleaning"
   ]
  },
  {
   "cell_type": "code",
   "execution_count": 40,
   "metadata": {},
   "outputs": [
    {
     "data": {
      "text/plain": [
       "(73562, 5)"
      ]
     },
     "execution_count": 40,
     "metadata": {},
     "output_type": "execute_result"
    }
   ],
   "source": [
    "data.shape"
   ]
  },
  {
   "cell_type": "markdown",
   "metadata": {},
   "source": [
    "creating a column YEAR in your dataset for the year you will notice that the original column SEMESTER\n",
    "is the form Fall 20nn"
   ]
  },
  {
   "cell_type": "code",
   "execution_count": 41,
   "metadata": {},
   "outputs": [],
   "source": [
    "data['YEAR'] = data.SEMESTER.str.split(\" \").str[-1]"
   ]
  },
  {
   "cell_type": "code",
   "execution_count": 42,
   "metadata": {},
   "outputs": [
    {
     "data": {
      "text/html": [
       "<div>\n",
       "<style scoped>\n",
       "    .dataframe tbody tr th:only-of-type {\n",
       "        vertical-align: middle;\n",
       "    }\n",
       "\n",
       "    .dataframe tbody tr th {\n",
       "        vertical-align: top;\n",
       "    }\n",
       "\n",
       "    .dataframe thead th {\n",
       "        text-align: right;\n",
       "    }\n",
       "</style>\n",
       "<table border=\"1\" class=\"dataframe\">\n",
       "  <thead>\n",
       "    <tr style=\"text-align: right;\">\n",
       "      <th></th>\n",
       "      <th>SPRADDR_ZIP_PR</th>\n",
       "      <th>SEMESTER</th>\n",
       "      <th>IRO_INSTITUTION_DESCL</th>\n",
       "      <th>HAWAIIAN_LEGACY</th>\n",
       "      <th>ENROLLMENT</th>\n",
       "      <th>YEAR</th>\n",
       "    </tr>\n",
       "  </thead>\n",
       "  <tbody>\n",
       "    <tr>\n",
       "      <th>0</th>\n",
       "      <td>96766</td>\n",
       "      <td>Fall 2012</td>\n",
       "      <td>Kaua`i Community College</td>\n",
       "      <td>HAWAIIAN</td>\n",
       "      <td>73</td>\n",
       "      <td>2012</td>\n",
       "    </tr>\n",
       "    <tr>\n",
       "      <th>1</th>\n",
       "      <td>96814</td>\n",
       "      <td>Fall 2012</td>\n",
       "      <td>Kapi`olani Community College</td>\n",
       "      <td>NaN</td>\n",
       "      <td>19</td>\n",
       "      <td>2012</td>\n",
       "    </tr>\n",
       "    <tr>\n",
       "      <th>2</th>\n",
       "      <td>96792</td>\n",
       "      <td>Fall 2012</td>\n",
       "      <td>Leeward Community College</td>\n",
       "      <td>HAWAIIAN</td>\n",
       "      <td>504</td>\n",
       "      <td>2012</td>\n",
       "    </tr>\n",
       "    <tr>\n",
       "      <th>3</th>\n",
       "      <td>96822</td>\n",
       "      <td>Fall 2012</td>\n",
       "      <td>Honolulu Community College</td>\n",
       "      <td>NaN</td>\n",
       "      <td>12</td>\n",
       "      <td>2012</td>\n",
       "    </tr>\n",
       "    <tr>\n",
       "      <th>4</th>\n",
       "      <td>96821</td>\n",
       "      <td>Fall 2012</td>\n",
       "      <td>Kapi`olani Community College</td>\n",
       "      <td>NaN</td>\n",
       "      <td>43</td>\n",
       "      <td>2012</td>\n",
       "    </tr>\n",
       "  </tbody>\n",
       "</table>\n",
       "</div>"
      ],
      "text/plain": [
       "   SPRADDR_ZIP_PR   SEMESTER         IRO_INSTITUTION_DESCL HAWAIIAN_LEGACY  \\\n",
       "0           96766  Fall 2012      Kaua`i Community College        HAWAIIAN   \n",
       "1           96814  Fall 2012  Kapi`olani Community College             NaN   \n",
       "2           96792  Fall 2012     Leeward Community College        HAWAIIAN   \n",
       "3           96822  Fall 2012    Honolulu Community College             NaN   \n",
       "4           96821  Fall 2012  Kapi`olani Community College             NaN   \n",
       "\n",
       "   ENROLLMENT  YEAR  \n",
       "0          73  2012  \n",
       "1          19  2012  \n",
       "2         504  2012  \n",
       "3          12  2012  \n",
       "4          43  2012  "
      ]
     },
     "execution_count": 42,
     "metadata": {},
     "output_type": "execute_result"
    }
   ],
   "source": [
    "data.head()"
   ]
  },
  {
   "cell_type": "markdown",
   "metadata": {},
   "source": [
    "dropping the HAWAIIAN_LEGACY column "
   ]
  },
  {
   "cell_type": "code",
   "execution_count": 43,
   "metadata": {},
   "outputs": [],
   "source": [
    "data = data.drop(['HAWAIIAN_LEGACY'],axis=1)"
   ]
  },
  {
   "cell_type": "code",
   "execution_count": 44,
   "metadata": {},
   "outputs": [
    {
     "data": {
      "text/html": [
       "<div>\n",
       "<style scoped>\n",
       "    .dataframe tbody tr th:only-of-type {\n",
       "        vertical-align: middle;\n",
       "    }\n",
       "\n",
       "    .dataframe tbody tr th {\n",
       "        vertical-align: top;\n",
       "    }\n",
       "\n",
       "    .dataframe thead th {\n",
       "        text-align: right;\n",
       "    }\n",
       "</style>\n",
       "<table border=\"1\" class=\"dataframe\">\n",
       "  <thead>\n",
       "    <tr style=\"text-align: right;\">\n",
       "      <th></th>\n",
       "      <th>SPRADDR_ZIP_PR</th>\n",
       "      <th>SEMESTER</th>\n",
       "      <th>IRO_INSTITUTION_DESCL</th>\n",
       "      <th>ENROLLMENT</th>\n",
       "      <th>YEAR</th>\n",
       "    </tr>\n",
       "  </thead>\n",
       "  <tbody>\n",
       "    <tr>\n",
       "      <th>0</th>\n",
       "      <td>96766</td>\n",
       "      <td>Fall 2012</td>\n",
       "      <td>Kaua`i Community College</td>\n",
       "      <td>73</td>\n",
       "      <td>2012</td>\n",
       "    </tr>\n",
       "    <tr>\n",
       "      <th>1</th>\n",
       "      <td>96814</td>\n",
       "      <td>Fall 2012</td>\n",
       "      <td>Kapi`olani Community College</td>\n",
       "      <td>19</td>\n",
       "      <td>2012</td>\n",
       "    </tr>\n",
       "    <tr>\n",
       "      <th>2</th>\n",
       "      <td>96792</td>\n",
       "      <td>Fall 2012</td>\n",
       "      <td>Leeward Community College</td>\n",
       "      <td>504</td>\n",
       "      <td>2012</td>\n",
       "    </tr>\n",
       "    <tr>\n",
       "      <th>3</th>\n",
       "      <td>96822</td>\n",
       "      <td>Fall 2012</td>\n",
       "      <td>Honolulu Community College</td>\n",
       "      <td>12</td>\n",
       "      <td>2012</td>\n",
       "    </tr>\n",
       "    <tr>\n",
       "      <th>4</th>\n",
       "      <td>96821</td>\n",
       "      <td>Fall 2012</td>\n",
       "      <td>Kapi`olani Community College</td>\n",
       "      <td>43</td>\n",
       "      <td>2012</td>\n",
       "    </tr>\n",
       "  </tbody>\n",
       "</table>\n",
       "</div>"
      ],
      "text/plain": [
       "   SPRADDR_ZIP_PR   SEMESTER         IRO_INSTITUTION_DESCL  ENROLLMENT  YEAR\n",
       "0           96766  Fall 2012      Kaua`i Community College          73  2012\n",
       "1           96814  Fall 2012  Kapi`olani Community College          19  2012\n",
       "2           96792  Fall 2012     Leeward Community College         504  2012\n",
       "3           96822  Fall 2012    Honolulu Community College          12  2012\n",
       "4           96821  Fall 2012  Kapi`olani Community College          43  2012"
      ]
     },
     "execution_count": 44,
     "metadata": {},
     "output_type": "execute_result"
    }
   ],
   "source": [
    "data.head()"
   ]
  },
  {
   "cell_type": "markdown",
   "metadata": {},
   "source": [
    "eliminating any rows of data with NaN data in it;\n"
   ]
  },
  {
   "cell_type": "code",
   "execution_count": 45,
   "metadata": {},
   "outputs": [],
   "source": [
    "data = data.dropna()"
   ]
  },
  {
   "cell_type": "code",
   "execution_count": 46,
   "metadata": {},
   "outputs": [
    {
     "data": {
      "text/html": [
       "<div>\n",
       "<style scoped>\n",
       "    .dataframe tbody tr th:only-of-type {\n",
       "        vertical-align: middle;\n",
       "    }\n",
       "\n",
       "    .dataframe tbody tr th {\n",
       "        vertical-align: top;\n",
       "    }\n",
       "\n",
       "    .dataframe thead th {\n",
       "        text-align: right;\n",
       "    }\n",
       "</style>\n",
       "<table border=\"1\" class=\"dataframe\">\n",
       "  <thead>\n",
       "    <tr style=\"text-align: right;\">\n",
       "      <th></th>\n",
       "      <th>SPRADDR_ZIP_PR</th>\n",
       "      <th>SEMESTER</th>\n",
       "      <th>IRO_INSTITUTION_DESCL</th>\n",
       "      <th>ENROLLMENT</th>\n",
       "      <th>YEAR</th>\n",
       "    </tr>\n",
       "  </thead>\n",
       "  <tbody>\n",
       "    <tr>\n",
       "      <th>0</th>\n",
       "      <td>96766</td>\n",
       "      <td>Fall 2012</td>\n",
       "      <td>Kaua`i Community College</td>\n",
       "      <td>73</td>\n",
       "      <td>2012</td>\n",
       "    </tr>\n",
       "    <tr>\n",
       "      <th>1</th>\n",
       "      <td>96814</td>\n",
       "      <td>Fall 2012</td>\n",
       "      <td>Kapi`olani Community College</td>\n",
       "      <td>19</td>\n",
       "      <td>2012</td>\n",
       "    </tr>\n",
       "    <tr>\n",
       "      <th>2</th>\n",
       "      <td>96792</td>\n",
       "      <td>Fall 2012</td>\n",
       "      <td>Leeward Community College</td>\n",
       "      <td>504</td>\n",
       "      <td>2012</td>\n",
       "    </tr>\n",
       "    <tr>\n",
       "      <th>3</th>\n",
       "      <td>96822</td>\n",
       "      <td>Fall 2012</td>\n",
       "      <td>Honolulu Community College</td>\n",
       "      <td>12</td>\n",
       "      <td>2012</td>\n",
       "    </tr>\n",
       "    <tr>\n",
       "      <th>4</th>\n",
       "      <td>96821</td>\n",
       "      <td>Fall 2012</td>\n",
       "      <td>Kapi`olani Community College</td>\n",
       "      <td>43</td>\n",
       "      <td>2012</td>\n",
       "    </tr>\n",
       "  </tbody>\n",
       "</table>\n",
       "</div>"
      ],
      "text/plain": [
       "   SPRADDR_ZIP_PR   SEMESTER         IRO_INSTITUTION_DESCL  ENROLLMENT  YEAR\n",
       "0           96766  Fall 2012      Kaua`i Community College          73  2012\n",
       "1           96814  Fall 2012  Kapi`olani Community College          19  2012\n",
       "2           96792  Fall 2012     Leeward Community College         504  2012\n",
       "3           96822  Fall 2012    Honolulu Community College          12  2012\n",
       "4           96821  Fall 2012  Kapi`olani Community College          43  2012"
      ]
     },
     "execution_count": 46,
     "metadata": {},
     "output_type": "execute_result"
    }
   ],
   "source": [
    "data.head()"
   ]
  },
  {
   "cell_type": "code",
   "execution_count": 47,
   "metadata": {},
   "outputs": [
    {
     "data": {
      "text/plain": [
       "(73562, 5)"
      ]
     },
     "execution_count": 47,
     "metadata": {},
     "output_type": "execute_result"
    }
   ],
   "source": [
    "data.shape"
   ]
  },
  {
   "cell_type": "markdown",
   "metadata": {},
   "source": [
    "storing the entire dataset back into a new CSV file called hawaii_enrollments.csv."
   ]
  },
  {
   "cell_type": "code",
   "execution_count": 48,
   "metadata": {},
   "outputs": [],
   "source": [
    "data.to_csv('hawaii_enrollments.csv')"
   ]
  }
 ],
 "metadata": {
  "kernelspec": {
   "display_name": "Python 3",
   "language": "python",
   "name": "python3"
  },
  "language_info": {
   "codemirror_mode": {
    "name": "ipython",
    "version": 3
   },
   "file_extension": ".py",
   "mimetype": "text/x-python",
   "name": "python",
   "nbconvert_exporter": "python",
   "pygments_lexer": "ipython3",
   "version": "3.8.3"
  }
 },
 "nbformat": 4,
 "nbformat_minor": 4
}
